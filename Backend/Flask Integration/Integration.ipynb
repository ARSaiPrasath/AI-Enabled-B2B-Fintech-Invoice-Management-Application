{
 "cells": [
  {
   "cell_type": "code",
   "execution_count": null,
   "id": "8933d4f8",
   "metadata": {
    "scrolled": false
   },
   "outputs": [
    {
     "name": "stdout",
     "output_type": "stream",
     "text": [
      " * Serving Flask app \"__main__\" (lazy loading)\n",
      " * Environment: production\n",
      "\u001b[31m   WARNING: This is a development server. Do not use it in a production deployment.\u001b[0m\n",
      "\u001b[2m   Use a production WSGI server instead.\u001b[0m\n",
      " * Debug mode: off\n"
     ]
    },
    {
     "name": "stderr",
     "output_type": "stream",
     "text": [
      " * Running on http://127.0.0.1:5000/ (Press CTRL+C to quit)\n",
      "127.0.0.1 - - [14/Apr/2022 15:23:25] \"OPTIONS / HTTP/1.1\" 200 -\n",
      "[2022-04-14 15:23:25,908] ERROR in app: Exception on / [POST]\n",
      "Traceback (most recent call last):\n",
      "  File \"C:\\Anaconda\\lib\\site-packages\\flask\\app.py\", line 2447, in wsgi_app\n",
      "    response = self.full_dispatch_request()\n",
      "  File \"C:\\Anaconda\\lib\\site-packages\\flask\\app.py\", line 1952, in full_dispatch_request\n",
      "    rv = self.handle_user_exception(e)\n",
      "  File \"C:\\Anaconda\\lib\\site-packages\\flask_cors\\extension.py\", line 165, in wrapped_function\n",
      "    return cors_after_request(app.make_response(f(*args, **kwargs)))\n",
      "  File \"C:\\Anaconda\\lib\\site-packages\\flask\\app.py\", line 1821, in handle_user_exception\n",
      "    reraise(exc_type, exc_value, tb)\n",
      "  File \"C:\\Anaconda\\lib\\site-packages\\flask\\_compat.py\", line 39, in reraise\n",
      "    raise value\n",
      "  File \"C:\\Anaconda\\lib\\site-packages\\flask\\app.py\", line 1950, in full_dispatch_request\n",
      "    rv = self.dispatch_request()\n",
      "  File \"C:\\Anaconda\\lib\\site-packages\\flask\\app.py\", line 1936, in dispatch_request\n",
      "    return self.view_functions[rule.endpoint](**req.view_args)\n",
      "  File \"C:\\Users\\SAIPRA~1\\AppData\\Local\\Temp/ipykernel_16200/1619904842.py\", line 17, in home\n",
      "    name_customer = request.json['name_customer']\n",
      "KeyError: 'name_customer'\n",
      "127.0.0.1 - - [14/Apr/2022 15:23:25] \"POST / HTTP/1.1\" 500 -\n"
     ]
    },
    {
     "name": "stdout",
     "output_type": "stream",
     "text": [
      "{'business_code': 'U001', 'cust_number': 200769623, 'clear_date': '2020-02-11', 'buisness_year': 2020, 'doc_id': '1930438491', 'posting_date': '2020-01-26', 'due_in_date': '2020-02-10', 'baseline_create_date': '2020-01-26', 'cust_payment_terms': 'NAH4', 'converted_usd': 54273.28}\n"
     ]
    },
    {
     "name": "stderr",
     "output_type": "stream",
     "text": [
      "127.0.0.1 - - [14/Apr/2022 15:24:08] \"OPTIONS / HTTP/1.1\" 200 -\n"
     ]
    },
    {
     "name": "stdout",
     "output_type": "stream",
     "text": [
      "{'name_customer': 'PIO associates', 'business_code': 'U001', 'cust_number': 200769623, 'clear_date': '2020-02-11', 'buisness_year': 2020, 'doc_id': '1930438491', 'posting_date': '2020-01-26', 'due_in_date': '2020-02-10', 'baseline_create_date': '2020-01-26', 'cust_payment_terms': 'NAH4', 'converted_usd': 54273.28}\n",
      "{'name_customer': 'PIO associates', 'business_code': 'U001', 'cust_number': 200769623, 'clear_date': '2020-02-11', 'buisness_year': 2020, 'doc_id': '1930438491', 'posting_date': '2020-01-26', 'due_in_date': '2020-02-10', 'baseline_create_date': '2020-01-26', 'cust_payment_terms': 'NAH4', 'converted_usd': 54273.28}\n",
      "Predict\n"
     ]
    },
    {
     "name": "stderr",
     "output_type": "stream",
     "text": [
      "127.0.0.1 - - [14/Apr/2022 15:24:09] \"POST / HTTP/1.1\" 200 -\n",
      "127.0.0.1 - - [14/Apr/2022 15:24:44] \"OPTIONS / HTTP/1.1\" 200 -\n"
     ]
    },
    {
     "name": "stdout",
     "output_type": "stream",
     "text": [
      "{'name_customer': 'PIO associates', 'business_code': 'U001', 'cust_number': 200769623, 'clear_date': '2020-02-11', 'buisness_year': 2020, 'doc_id': '1930438491', 'posting_date': '2020-01-26', 'due_in_date': '2020-02-10', 'baseline_create_date': '2020-01-26', 'cust_payment_terms': 'NAH4', 'converted_usd': 54273.28}\n",
      "{'name_customer': 'PIO associates', 'business_code': 'U001', 'cust_number': 200769623, 'clear_date': '2020-02-11', 'buisness_year': 2020, 'doc_id': '1930438491', 'posting_date': '2020-01-26', 'due_in_date': '2020-02-10', 'baseline_create_date': '2020-01-26', 'cust_payment_terms': 'NAH4', 'converted_usd': 54273.28}\n",
      "Predict\n"
     ]
    },
    {
     "name": "stderr",
     "output_type": "stream",
     "text": [
      "127.0.0.1 - - [14/Apr/2022 15:24:44] \"POST / HTTP/1.1\" 200 -\n",
      "127.0.0.1 - - [14/Apr/2022 15:26:37] \"OPTIONS / HTTP/1.1\" 200 -\n"
     ]
    },
    {
     "name": "stdout",
     "output_type": "stream",
     "text": [
      "{'name_customer': 'SYS systems', 'business_code': 'U001', 'cust_number': 200980828, 'clear_date': '2019-08-08', 'buisness_year': 2019, 'doc_id': '1929646410', 'posting_date': '2019-07-22', 'due_in_date': '2019-08-11', 'baseline_create_date': '2019-07-22', 'cust_payment_terms': 'NAD1', 'converted_usd': 79656.6}\n",
      "{'name_customer': 'SYS systems', 'business_code': 'U001', 'cust_number': 200980828, 'clear_date': '2019-08-08', 'buisness_year': 2019, 'doc_id': '1929646410', 'posting_date': '2019-07-22', 'due_in_date': '2019-08-11', 'baseline_create_date': '2019-07-22', 'cust_payment_terms': 'NAD1', 'converted_usd': 79656.6}\n",
      "Predict\n"
     ]
    },
    {
     "name": "stderr",
     "output_type": "stream",
     "text": [
      "127.0.0.1 - - [14/Apr/2022 15:26:37] \"POST / HTTP/1.1\" 200 -\n",
      "127.0.0.1 - - [14/Apr/2022 15:27:31] \"OPTIONS / HTTP/1.1\" 200 -\n"
     ]
    },
    {
     "name": "stdout",
     "output_type": "stream",
     "text": [
      "{'name_customer': 'PIO associates', 'business_code': 'U001', 'cust_number': 200769623, 'clear_date': '2020-02-11', 'buisness_year': 2020, 'doc_id': '1930438491', 'posting_date': '2020-01-26', 'due_in_date': '2020-02-10', 'baseline_create_date': '2020-01-26', 'cust_payment_terms': 'NAH4', 'converted_usd': 54273.28}\n",
      "{'name_customer': 'PIO associates', 'business_code': 'U001', 'cust_number': 200769623, 'clear_date': '2020-02-11', 'buisness_year': 2020, 'doc_id': '1930438491', 'posting_date': '2020-01-26', 'due_in_date': '2020-02-10', 'baseline_create_date': '2020-01-26', 'cust_payment_terms': 'NAH4', 'converted_usd': 54273.28}\n",
      "Predict\n"
     ]
    },
    {
     "name": "stderr",
     "output_type": "stream",
     "text": [
      "127.0.0.1 - - [14/Apr/2022 15:27:32] \"POST / HTTP/1.1\" 200 -\n",
      "127.0.0.1 - - [14/Apr/2022 15:53:53] \"OPTIONS / HTTP/1.1\" 200 -\n"
     ]
    },
    {
     "name": "stdout",
     "output_type": "stream",
     "text": [
      "{'name_customer': 'SUPERB us', 'business_code': 'U001', 'cust_number': 200792734, 'clear_date': '2019-12-30', 'buisness_year': 2019, 'doc_id': '1929873765', 'posting_date': '2019-09-14', 'due_in_date': '2019-09-29', 'baseline_create_date': '2019-09-14', 'cust_payment_terms': 'NAA8', 'converted_usd': 2253.86}\n",
      "{'name_customer': 'SUPERB us', 'business_code': 'U001', 'cust_number': 200792734, 'clear_date': '2019-12-30', 'buisness_year': 2019, 'doc_id': '1929873765', 'posting_date': '2019-09-14', 'due_in_date': '2019-09-29', 'baseline_create_date': '2019-09-14', 'cust_payment_terms': 'NAA8', 'converted_usd': 2253.86}\n",
      "Predict\n"
     ]
    },
    {
     "name": "stderr",
     "output_type": "stream",
     "text": [
      "127.0.0.1 - - [14/Apr/2022 15:53:54] \"POST / HTTP/1.1\" 200 -\n",
      "127.0.0.1 - - [14/Apr/2022 17:21:38] \"OPTIONS / HTTP/1.1\" 200 -\n"
     ]
    },
    {
     "name": "stdout",
     "output_type": "stream",
     "text": [
      "{'name_customer': 'SUPERB us', 'business_code': 'U001', 'cust_number': 200792734, 'clear_date': '2022-04-01', 'buisness_year': 2020, 'doc_id': '1928576325', 'posting_date': '2022-04-08', 'due_in_date': '2022-04-14', 'baseline_create_date': '2022-04-07', 'cust_payment_terms': 'NAD1', 'converted_usd': 158626261.44}\n",
      "{'name_customer': 'SUPERB us', 'business_code': 'U001', 'cust_number': 200792734, 'clear_date': '2022-04-01', 'buisness_year': 2020, 'doc_id': '1928576325', 'posting_date': '2022-04-08', 'due_in_date': '2022-04-14', 'baseline_create_date': '2022-04-07', 'cust_payment_terms': 'NAD1', 'converted_usd': 158626261.44}\n",
      "Predict\n"
     ]
    },
    {
     "name": "stderr",
     "output_type": "stream",
     "text": [
      "127.0.0.1 - - [14/Apr/2022 17:21:39] \"POST / HTTP/1.1\" 200 -\n",
      "127.0.0.1 - - [14/Apr/2022 19:05:49] \"OPTIONS / HTTP/1.1\" 200 -\n"
     ]
    },
    {
     "name": "stdout",
     "output_type": "stream",
     "text": [
      "{'name_customer': 'PIO associates', 'business_code': 'U001', 'cust_number': 200769623, 'clear_date': '2020-02-11', 'buisness_year': 2020, 'doc_id': '1930438491', 'posting_date': '2020-01-26', 'due_in_date': '2020-02-10', 'baseline_create_date': '2020-01-26', 'cust_payment_terms': 'NAH4', 'converted_usd': 54273.28}\n",
      "{'name_customer': 'PIO associates', 'business_code': 'U001', 'cust_number': 200769623, 'clear_date': '2020-02-11', 'buisness_year': 2020, 'doc_id': '1930438491', 'posting_date': '2020-01-26', 'due_in_date': '2020-02-10', 'baseline_create_date': '2020-01-26', 'cust_payment_terms': 'NAH4', 'converted_usd': 54273.28}\n",
      "Predict\n"
     ]
    },
    {
     "name": "stderr",
     "output_type": "stream",
     "text": [
      "127.0.0.1 - - [14/Apr/2022 19:05:49] \"POST / HTTP/1.1\" 200 -\n",
      "127.0.0.1 - - [14/Apr/2022 19:07:02] \"OPTIONS / HTTP/1.1\" 200 -\n"
     ]
    },
    {
     "name": "stdout",
     "output_type": "stream",
     "text": [
      "{'name_customer': 'SYS systems', 'business_code': 'U001', 'cust_number': 200980828, 'clear_date': '2019-08-08', 'buisness_year': 2019, 'doc_id': '1929646410', 'posting_date': '2019-07-22', 'due_in_date': '2019-08-11', 'baseline_create_date': '2019-07-22', 'cust_payment_terms': 'NAD1', 'converted_usd': 79656.6}\n",
      "{'name_customer': 'SYS systems', 'business_code': 'U001', 'cust_number': 200980828, 'clear_date': '2019-08-08', 'buisness_year': 2019, 'doc_id': '1929646410', 'posting_date': '2019-07-22', 'due_in_date': '2019-08-11', 'baseline_create_date': '2019-07-22', 'cust_payment_terms': 'NAD1', 'converted_usd': 79656.6}\n",
      "Predict\n"
     ]
    },
    {
     "name": "stderr",
     "output_type": "stream",
     "text": [
      "127.0.0.1 - - [14/Apr/2022 19:07:03] \"POST / HTTP/1.1\" 200 -\n",
      "127.0.0.1 - - [14/Apr/2022 19:16:09] \"OPTIONS / HTTP/1.1\" 200 -\n"
     ]
    },
    {
     "name": "stdout",
     "output_type": "stream",
     "text": [
      "{'name_customer': 'PIO associates', 'business_code': 'U001', 'cust_number': 200769623, 'clear_date': '2020-02-11', 'buisness_year': 2020, 'doc_id': '1930438491', 'posting_date': '2020-01-26', 'due_in_date': '2020-02-10', 'baseline_create_date': '2020-01-25', 'cust_payment_terms': 'NAH4', 'converted_usd': 54273.28}\n",
      "{'name_customer': 'PIO associates', 'business_code': 'U001', 'cust_number': 200769623, 'clear_date': '2020-02-11', 'buisness_year': 2020, 'doc_id': '1930438491', 'posting_date': '2020-01-26', 'due_in_date': '2020-02-10', 'baseline_create_date': '2020-01-25', 'cust_payment_terms': 'NAH4', 'converted_usd': 54273.28}\n",
      "Predict\n"
     ]
    },
    {
     "name": "stderr",
     "output_type": "stream",
     "text": [
      "127.0.0.1 - - [14/Apr/2022 19:16:09] \"POST / HTTP/1.1\" 200 -\n",
      "127.0.0.1 - - [14/Apr/2022 20:29:24] \"OPTIONS / HTTP/1.1\" 200 -\n"
     ]
    },
    {
     "name": "stdout",
     "output_type": "stream",
     "text": [
      "{'name_customer': 'PIO associates', 'business_code': 'U001', 'cust_number': 200769623, 'clear_date': '2020-02-11', 'buisness_year': 2020, 'doc_id': '1930438491', 'posting_date': '2020-01-26', 'due_in_date': '2020-02-10', 'baseline_create_date': '2020-01-25', 'cust_payment_terms': 'NAH4', 'converted_usd': 54273.28}\n",
      "{'name_customer': 'PIO associates', 'business_code': 'U001', 'cust_number': 200769623, 'clear_date': '2020-02-11', 'buisness_year': 2020, 'doc_id': '1930438491', 'posting_date': '2020-01-26', 'due_in_date': '2020-02-10', 'baseline_create_date': '2020-01-25', 'cust_payment_terms': 'NAH4', 'converted_usd': 54273.28}\n",
      "Predict\n"
     ]
    },
    {
     "name": "stderr",
     "output_type": "stream",
     "text": [
      "127.0.0.1 - - [14/Apr/2022 20:29:25] \"POST / HTTP/1.1\" 200 -\n",
      "127.0.0.1 - - [14/Apr/2022 22:21:30] \"OPTIONS / HTTP/1.1\" 200 -\n"
     ]
    },
    {
     "name": "stdout",
     "output_type": "stream",
     "text": [
      "{'name_customer': 'PIO associates', 'business_code': 'U001', 'cust_number': 200769623, 'clear_date': '2020-02-11', 'buisness_year': 2020, 'doc_id': '1930438491', 'posting_date': '2020-01-26', 'due_in_date': '2020-02-10', 'baseline_create_date': '2020-01-25', 'cust_payment_terms': 'NAH4', 'converted_usd': 54273.28}\n",
      "{'name_customer': 'PIO associates', 'business_code': 'U001', 'cust_number': 200769623, 'clear_date': '2020-02-11', 'buisness_year': 2020, 'doc_id': '1930438491', 'posting_date': '2020-01-26', 'due_in_date': '2020-02-10', 'baseline_create_date': '2020-01-25', 'cust_payment_terms': 'NAH4', 'converted_usd': 54273.28}\n",
      "Predict\n"
     ]
    },
    {
     "name": "stderr",
     "output_type": "stream",
     "text": [
      "127.0.0.1 - - [14/Apr/2022 22:21:30] \"POST / HTTP/1.1\" 200 -\n",
      "127.0.0.1 - - [14/Apr/2022 22:21:53] \"OPTIONS / HTTP/1.1\" 200 -\n"
     ]
    },
    {
     "name": "stdout",
     "output_type": "stream",
     "text": [
      "{'name_customer': 'SYS systems', 'business_code': 'U001', 'cust_number': 200980828, 'clear_date': '2019-08-08', 'buisness_year': 2019, 'doc_id': '1929646410', 'posting_date': '2019-07-22', 'due_in_date': '2019-08-11', 'baseline_create_date': '2019-07-22', 'cust_payment_terms': 'NAD1', 'converted_usd': 79656.6}\n",
      "{'name_customer': 'SYS systems', 'business_code': 'U001', 'cust_number': 200980828, 'clear_date': '2019-08-08', 'buisness_year': 2019, 'doc_id': '1929646410', 'posting_date': '2019-07-22', 'due_in_date': '2019-08-11', 'baseline_create_date': '2019-07-22', 'cust_payment_terms': 'NAD1', 'converted_usd': 79656.6}\n",
      "Predict\n"
     ]
    },
    {
     "name": "stderr",
     "output_type": "stream",
     "text": [
      "127.0.0.1 - - [14/Apr/2022 22:21:53] \"POST / HTTP/1.1\" 200 -\n"
     ]
    }
   ],
   "source": [
    "from flask import Flask, redirect, url_for, render_template, request,jsonify, make_response\n",
    "import New_Bucket\n",
    "import pandas as pd\n",
    "from flask_cors import CORS\n",
    "\n",
    "data = pd.DataFrame()\n",
    "app = Flask(__name__)\n",
    "CORS(app)\n",
    "\n",
    "@app.route(\"/\",methods=[\"POST\", \"GET\"])\n",
    "def home():\n",
    "    \n",
    "    if request.method == \"POST\":\n",
    "        print(request.json)\n",
    "        business_code = request.json[\"business_code\"]\n",
    "        cust_number = request.json['cust_number']\n",
    "        name_customer = request.json['name_customer']\n",
    "        clear_date = request.json['clear_date']\n",
    "        buisness_year = int(request.json['buisness_year'])\n",
    "        doc_id = int(request.json['doc_id'])\n",
    "        posting_date = request.json['posting_date']\n",
    "        due_in_date = request.json['due_in_date']\n",
    "        baseline_create_date = request.json['baseline_create_date']\n",
    "        cust_payment_terms = request.json['cust_payment_terms']\n",
    "        converted_usd = float(request.json['converted_usd'])\n",
    " \n",
    "        data['business_code'] = [business_code]\n",
    "        data['cust_number'] = [cust_number]\n",
    "        data['name_customer'] = [name_customer]\n",
    "        data['clear_date'] = [clear_date]\n",
    "        data['buisness_year'] = [buisness_year]\n",
    "        data['doc_id'] = [doc_id]\n",
    "        data['posting_date'] =[posting_date]\n",
    "        data['due_in_date'] = [due_in_date]\n",
    "        data['baseline_create_date'] = [baseline_create_date]\n",
    "        data['cust_payment_terms'] = [cust_payment_terms]\n",
    "        data['converted_usd'] = [converted_usd]\n",
    "        \n",
    "        \n",
    "        print(request.json)\n",
    "        \n",
    "       \n",
    "        \n",
    "        response = make_response(jsonify(New_Bucket.predict(data)),200)\n",
    "        response.headers[\"Content-Type\"] = \"application/json\"\n",
    "        return response\n",
    "    else:\n",
    "        return render_template(\"index1.html\")\n",
    "        \n",
    "@app.route(\"/get_prediction\", methods=[\"GET\",'POST'])\n",
    "def get_prediction():    \n",
    "    if request.method == \"POST\":\n",
    "        doc_id_list = list(request.json[\"data\"])\n",
    "        print(doc_id_list)\n",
    "        response = make_response(jsonify(New_Bucket.doc_id_bucket(doc_id_list)),200)\n",
    "        response.headers[\"Access-Control-Allow-Origin\"]=\"*\"\n",
    "        response.headers[\"Content-Type\"] = \"application/json\"\n",
    "        return response\n",
    "    else:\n",
    "        return render_template(\"index2.html\")\n",
    "    \n",
    "\n",
    "@app.route(\"/all\", methods=[\"GET\",'POST'])\n",
    "def alll():    \n",
    "    if request.method == \"POST\":        \n",
    "        response = make_response(jsonify(New_Bucket.alll()),200)       \n",
    "        response.headers[\"Content-Type\"] = \"application/json\"\n",
    "        return response\n",
    "    else:\n",
    "        return render_template(\"index3.html\")    \n",
    "    \n",
    "@app.route(\"/login\", methods=[\"POST\", \"GET\"])\n",
    "def login():\n",
    "    if request.method == \"POST\":\n",
    "        user = request.form[\"nm\"]\n",
    "        return redirect(url_for(\"user\", usr=user))\n",
    "    else:\n",
    "        return render_template(\"login.html\")\n",
    "\n",
    "@app.route(\"/<usr>\")\n",
    "def user(usr):\n",
    "    return f\"<h1>{usr}</h1>\"\n",
    "\n",
    "if __name__ == \"__main__\":\n",
    "    app.run()"
   ]
  },
  {
   "cell_type": "code",
   "execution_count": null,
   "id": "287fe5bc",
   "metadata": {},
   "outputs": [],
   "source": [
    "#!pip install flask_cors"
   ]
  },
  {
   "cell_type": "code",
   "execution_count": null,
   "id": "00d885e9",
   "metadata": {},
   "outputs": [],
   "source": []
  }
 ],
 "metadata": {
  "kernelspec": {
   "display_name": "Python 3 (ipykernel)",
   "language": "python",
   "name": "python3"
  },
  "language_info": {
   "codemirror_mode": {
    "name": "ipython",
    "version": 3
   },
   "file_extension": ".py",
   "mimetype": "text/x-python",
   "name": "python",
   "nbconvert_exporter": "python",
   "pygments_lexer": "ipython3",
   "version": "3.9.7"
  }
 },
 "nbformat": 4,
 "nbformat_minor": 5
}
